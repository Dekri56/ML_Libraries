{
 "cells": [
  {
   "cell_type": "code",
   "execution_count": 1,
   "metadata": {},
   "outputs": [],
   "source": [
    "import numpy as np\n",
    "import pandas as pd"
   ]
  },
  {
   "cell_type": "code",
   "execution_count": 2,
   "metadata": {},
   "outputs": [],
   "source": [
    "dict1 = {\"name\":['Harry', 'Rohan', 'Gomati', 'Shubh'],\n",
    "         \"marks\":[12, 34, 24, 67],\n",
    "         \"city\":['Rampur', 'Kolkata', 'Bareilly', 'Chetanpur']\n",
    "         }"
   ]
  },
  {
   "cell_type": "code",
   "execution_count": 3,
   "metadata": {},
   "outputs": [],
   "source": [
    "df = pd.DataFrame(dict1) #it will show data in tabular form"
   ]
  },
  {
   "cell_type": "code",
   "execution_count": 4,
   "metadata": {},
   "outputs": [
    {
     "data": {
      "text/html": [
       "<div>\n",
       "<style scoped>\n",
       "    .dataframe tbody tr th:only-of-type {\n",
       "        vertical-align: middle;\n",
       "    }\n",
       "\n",
       "    .dataframe tbody tr th {\n",
       "        vertical-align: top;\n",
       "    }\n",
       "\n",
       "    .dataframe thead th {\n",
       "        text-align: right;\n",
       "    }\n",
       "</style>\n",
       "<table border=\"1\" class=\"dataframe\">\n",
       "  <thead>\n",
       "    <tr style=\"text-align: right;\">\n",
       "      <th></th>\n",
       "      <th>name</th>\n",
       "      <th>marks</th>\n",
       "      <th>city</th>\n",
       "    </tr>\n",
       "  </thead>\n",
       "  <tbody>\n",
       "    <tr>\n",
       "      <th>0</th>\n",
       "      <td>Harry</td>\n",
       "      <td>12</td>\n",
       "      <td>Rampur</td>\n",
       "    </tr>\n",
       "    <tr>\n",
       "      <th>1</th>\n",
       "      <td>Rohan</td>\n",
       "      <td>34</td>\n",
       "      <td>Kolkata</td>\n",
       "    </tr>\n",
       "    <tr>\n",
       "      <th>2</th>\n",
       "      <td>Gomati</td>\n",
       "      <td>24</td>\n",
       "      <td>Bareilly</td>\n",
       "    </tr>\n",
       "    <tr>\n",
       "      <th>3</th>\n",
       "      <td>Shubh</td>\n",
       "      <td>67</td>\n",
       "      <td>Chetanpur</td>\n",
       "    </tr>\n",
       "  </tbody>\n",
       "</table>\n",
       "</div>"
      ],
      "text/plain": [
       "     name  marks       city\n",
       "0   Harry     12     Rampur\n",
       "1   Rohan     34    Kolkata\n",
       "2  Gomati     24   Bareilly\n",
       "3   Shubh     67  Chetanpur"
      ]
     },
     "execution_count": 4,
     "metadata": {},
     "output_type": "execute_result"
    }
   ],
   "source": [
    "df"
   ]
  },
  {
   "cell_type": "code",
   "execution_count": 18,
   "metadata": {},
   "outputs": [],
   "source": [
    "df.to_csv('colleague.csv',index=False) #excel sheet is created"
   ]
  },
  {
   "cell_type": "code",
   "execution_count": 19,
   "metadata": {},
   "outputs": [],
   "source": [
    "colleague = pd.read_csv('colleague.csv') #excel sheet read in python"
   ]
  },
  {
   "cell_type": "code",
   "execution_count": 20,
   "metadata": {},
   "outputs": [
    {
     "data": {
      "text/html": [
       "<div>\n",
       "<style scoped>\n",
       "    .dataframe tbody tr th:only-of-type {\n",
       "        vertical-align: middle;\n",
       "    }\n",
       "\n",
       "    .dataframe tbody tr th {\n",
       "        vertical-align: top;\n",
       "    }\n",
       "\n",
       "    .dataframe thead th {\n",
       "        text-align: right;\n",
       "    }\n",
       "</style>\n",
       "<table border=\"1\" class=\"dataframe\">\n",
       "  <thead>\n",
       "    <tr style=\"text-align: right;\">\n",
       "      <th></th>\n",
       "      <th>name</th>\n",
       "      <th>marks</th>\n",
       "      <th>city</th>\n",
       "    </tr>\n",
       "  </thead>\n",
       "  <tbody>\n",
       "    <tr>\n",
       "      <th>0</th>\n",
       "      <td>Harry</td>\n",
       "      <td>12</td>\n",
       "      <td>Rampur</td>\n",
       "    </tr>\n",
       "    <tr>\n",
       "      <th>1</th>\n",
       "      <td>Rohan</td>\n",
       "      <td>34</td>\n",
       "      <td>Kolkata</td>\n",
       "    </tr>\n",
       "    <tr>\n",
       "      <th>2</th>\n",
       "      <td>Gomati</td>\n",
       "      <td>24</td>\n",
       "      <td>Bareilly</td>\n",
       "    </tr>\n",
       "    <tr>\n",
       "      <th>3</th>\n",
       "      <td>Shubh</td>\n",
       "      <td>67</td>\n",
       "      <td>Chetanpur</td>\n",
       "    </tr>\n",
       "  </tbody>\n",
       "</table>\n",
       "</div>"
      ],
      "text/plain": [
       "     name  marks       city\n",
       "0   Harry     12     Rampur\n",
       "1   Rohan     34    Kolkata\n",
       "2  Gomati     24   Bareilly\n",
       "3   Shubh     67  Chetanpur"
      ]
     },
     "execution_count": 20,
     "metadata": {},
     "output_type": "execute_result"
    }
   ],
   "source": [
    "colleague"
   ]
  },
  {
   "cell_type": "code",
   "execution_count": 21,
   "metadata": {},
   "outputs": [
    {
     "data": {
      "text/plain": [
       "0    12\n",
       "1    34\n",
       "2    24\n",
       "3    67\n",
       "Name: marks, dtype: int64"
      ]
     },
     "execution_count": 21,
     "metadata": {},
     "output_type": "execute_result"
    }
   ],
   "source": [
    "colleague['marks'] #only column marks"
   ]
  },
  {
   "cell_type": "code",
   "execution_count": 22,
   "metadata": {},
   "outputs": [
    {
     "data": {
      "text/plain": [
       "12"
      ]
     },
     "execution_count": 22,
     "metadata": {},
     "output_type": "execute_result"
    }
   ],
   "source": [
    "colleague['marks'][0] #particular index value"
   ]
  },
  {
   "cell_type": "code",
   "execution_count": 23,
   "metadata": {},
   "outputs": [
    {
     "name": "stderr",
     "output_type": "stream",
     "text": [
      "C:\\Users\\shahd\\AppData\\Local\\Temp\\ipykernel_15744\\1557041505.py:1: SettingWithCopyWarning: \n",
      "A value is trying to be set on a copy of a slice from a DataFrame\n",
      "\n",
      "See the caveats in the documentation: https://pandas.pydata.org/pandas-docs/stable/user_guide/indexing.html#returning-a-view-versus-a-copy\n",
      "  colleague['marks'][0] = 60 #it will give a warning but the value is changed\n"
     ]
    }
   ],
   "source": [
    "colleague['marks'][0] = 60 #it will give a warning but the value is changed"
   ]
  },
  {
   "cell_type": "code",
   "execution_count": 24,
   "metadata": {},
   "outputs": [
    {
     "data": {
      "text/html": [
       "<div>\n",
       "<style scoped>\n",
       "    .dataframe tbody tr th:only-of-type {\n",
       "        vertical-align: middle;\n",
       "    }\n",
       "\n",
       "    .dataframe tbody tr th {\n",
       "        vertical-align: top;\n",
       "    }\n",
       "\n",
       "    .dataframe thead th {\n",
       "        text-align: right;\n",
       "    }\n",
       "</style>\n",
       "<table border=\"1\" class=\"dataframe\">\n",
       "  <thead>\n",
       "    <tr style=\"text-align: right;\">\n",
       "      <th></th>\n",
       "      <th>name</th>\n",
       "      <th>marks</th>\n",
       "      <th>city</th>\n",
       "    </tr>\n",
       "  </thead>\n",
       "  <tbody>\n",
       "    <tr>\n",
       "      <th>0</th>\n",
       "      <td>Harry</td>\n",
       "      <td>60</td>\n",
       "      <td>Rampur</td>\n",
       "    </tr>\n",
       "    <tr>\n",
       "      <th>1</th>\n",
       "      <td>Rohan</td>\n",
       "      <td>34</td>\n",
       "      <td>Kolkata</td>\n",
       "    </tr>\n",
       "    <tr>\n",
       "      <th>2</th>\n",
       "      <td>Gomati</td>\n",
       "      <td>24</td>\n",
       "      <td>Bareilly</td>\n",
       "    </tr>\n",
       "    <tr>\n",
       "      <th>3</th>\n",
       "      <td>Shubh</td>\n",
       "      <td>67</td>\n",
       "      <td>Chetanpur</td>\n",
       "    </tr>\n",
       "  </tbody>\n",
       "</table>\n",
       "</div>"
      ],
      "text/plain": [
       "     name  marks       city\n",
       "0   Harry     60     Rampur\n",
       "1   Rohan     34    Kolkata\n",
       "2  Gomati     24   Bareilly\n",
       "3   Shubh     67  Chetanpur"
      ]
     },
     "execution_count": 24,
     "metadata": {},
     "output_type": "execute_result"
    }
   ],
   "source": [
    "colleague #u can observe that the value is changed of the harry marks which is index = 0"
   ]
  },
  {
   "cell_type": "code",
   "execution_count": 25,
   "metadata": {},
   "outputs": [],
   "source": [
    "colleague.index = ['first', 'second', 'third', 'fourth']"
   ]
  },
  {
   "cell_type": "code",
   "execution_count": 26,
   "metadata": {},
   "outputs": [
    {
     "data": {
      "text/html": [
       "<div>\n",
       "<style scoped>\n",
       "    .dataframe tbody tr th:only-of-type {\n",
       "        vertical-align: middle;\n",
       "    }\n",
       "\n",
       "    .dataframe tbody tr th {\n",
       "        vertical-align: top;\n",
       "    }\n",
       "\n",
       "    .dataframe thead th {\n",
       "        text-align: right;\n",
       "    }\n",
       "</style>\n",
       "<table border=\"1\" class=\"dataframe\">\n",
       "  <thead>\n",
       "    <tr style=\"text-align: right;\">\n",
       "      <th></th>\n",
       "      <th>name</th>\n",
       "      <th>marks</th>\n",
       "      <th>city</th>\n",
       "    </tr>\n",
       "  </thead>\n",
       "  <tbody>\n",
       "    <tr>\n",
       "      <th>first</th>\n",
       "      <td>Harry</td>\n",
       "      <td>60</td>\n",
       "      <td>Rampur</td>\n",
       "    </tr>\n",
       "    <tr>\n",
       "      <th>second</th>\n",
       "      <td>Rohan</td>\n",
       "      <td>34</td>\n",
       "      <td>Kolkata</td>\n",
       "    </tr>\n",
       "    <tr>\n",
       "      <th>third</th>\n",
       "      <td>Gomati</td>\n",
       "      <td>24</td>\n",
       "      <td>Bareilly</td>\n",
       "    </tr>\n",
       "    <tr>\n",
       "      <th>fourth</th>\n",
       "      <td>Shubh</td>\n",
       "      <td>67</td>\n",
       "      <td>Chetanpur</td>\n",
       "    </tr>\n",
       "  </tbody>\n",
       "</table>\n",
       "</div>"
      ],
      "text/plain": [
       "          name  marks       city\n",
       "first    Harry     60     Rampur\n",
       "second   Rohan     34    Kolkata\n",
       "third   Gomati     24   Bareilly\n",
       "fourth   Shubh     67  Chetanpur"
      ]
     },
     "execution_count": 26,
     "metadata": {},
     "output_type": "execute_result"
    }
   ],
   "source": [
    "colleague"
   ]
  },
  {
   "cell_type": "code",
   "execution_count": 27,
   "metadata": {},
   "outputs": [
    {
     "data": {
      "text/html": [
       "<div>\n",
       "<style scoped>\n",
       "    .dataframe tbody tr th:only-of-type {\n",
       "        vertical-align: middle;\n",
       "    }\n",
       "\n",
       "    .dataframe tbody tr th {\n",
       "        vertical-align: top;\n",
       "    }\n",
       "\n",
       "    .dataframe thead th {\n",
       "        text-align: right;\n",
       "    }\n",
       "</style>\n",
       "<table border=\"1\" class=\"dataframe\">\n",
       "  <thead>\n",
       "    <tr style=\"text-align: right;\">\n",
       "      <th></th>\n",
       "      <th>name</th>\n",
       "      <th>marks</th>\n",
       "      <th>city</th>\n",
       "    </tr>\n",
       "  </thead>\n",
       "  <tbody>\n",
       "    <tr>\n",
       "      <th>first</th>\n",
       "      <td>Harry</td>\n",
       "      <td>60</td>\n",
       "      <td>Rampur</td>\n",
       "    </tr>\n",
       "    <tr>\n",
       "      <th>second</th>\n",
       "      <td>Rohan</td>\n",
       "      <td>34</td>\n",
       "      <td>Kolkata</td>\n",
       "    </tr>\n",
       "  </tbody>\n",
       "</table>\n",
       "</div>"
      ],
      "text/plain": [
       "         name  marks     city\n",
       "first   Harry     60   Rampur\n",
       "second  Rohan     34  Kolkata"
      ]
     },
     "execution_count": 27,
     "metadata": {},
     "output_type": "execute_result"
    }
   ],
   "source": [
    "colleague.head(2) #it will show the first 2 rows"
   ]
  },
  {
   "cell_type": "code",
   "execution_count": 28,
   "metadata": {},
   "outputs": [
    {
     "data": {
      "text/html": [
       "<div>\n",
       "<style scoped>\n",
       "    .dataframe tbody tr th:only-of-type {\n",
       "        vertical-align: middle;\n",
       "    }\n",
       "\n",
       "    .dataframe tbody tr th {\n",
       "        vertical-align: top;\n",
       "    }\n",
       "\n",
       "    .dataframe thead th {\n",
       "        text-align: right;\n",
       "    }\n",
       "</style>\n",
       "<table border=\"1\" class=\"dataframe\">\n",
       "  <thead>\n",
       "    <tr style=\"text-align: right;\">\n",
       "      <th></th>\n",
       "      <th>name</th>\n",
       "      <th>marks</th>\n",
       "      <th>city</th>\n",
       "    </tr>\n",
       "  </thead>\n",
       "  <tbody>\n",
       "    <tr>\n",
       "      <th>third</th>\n",
       "      <td>Gomati</td>\n",
       "      <td>24</td>\n",
       "      <td>Bareilly</td>\n",
       "    </tr>\n",
       "    <tr>\n",
       "      <th>fourth</th>\n",
       "      <td>Shubh</td>\n",
       "      <td>67</td>\n",
       "      <td>Chetanpur</td>\n",
       "    </tr>\n",
       "  </tbody>\n",
       "</table>\n",
       "</div>"
      ],
      "text/plain": [
       "          name  marks       city\n",
       "third   Gomati     24   Bareilly\n",
       "fourth   Shubh     67  Chetanpur"
      ]
     },
     "execution_count": 28,
     "metadata": {},
     "output_type": "execute_result"
    }
   ],
   "source": [
    "colleague.tail(2) #it will show the last 2 rows"
   ]
  },
  {
   "cell_type": "code",
   "execution_count": 29,
   "metadata": {},
   "outputs": [
    {
     "data": {
      "text/html": [
       "<div>\n",
       "<style scoped>\n",
       "    .dataframe tbody tr th:only-of-type {\n",
       "        vertical-align: middle;\n",
       "    }\n",
       "\n",
       "    .dataframe tbody tr th {\n",
       "        vertical-align: top;\n",
       "    }\n",
       "\n",
       "    .dataframe thead th {\n",
       "        text-align: right;\n",
       "    }\n",
       "</style>\n",
       "<table border=\"1\" class=\"dataframe\">\n",
       "  <thead>\n",
       "    <tr style=\"text-align: right;\">\n",
       "      <th></th>\n",
       "      <th>marks</th>\n",
       "    </tr>\n",
       "  </thead>\n",
       "  <tbody>\n",
       "    <tr>\n",
       "      <th>count</th>\n",
       "      <td>4.000000</td>\n",
       "    </tr>\n",
       "    <tr>\n",
       "      <th>mean</th>\n",
       "      <td>46.250000</td>\n",
       "    </tr>\n",
       "    <tr>\n",
       "      <th>std</th>\n",
       "      <td>20.532495</td>\n",
       "    </tr>\n",
       "    <tr>\n",
       "      <th>min</th>\n",
       "      <td>24.000000</td>\n",
       "    </tr>\n",
       "    <tr>\n",
       "      <th>25%</th>\n",
       "      <td>31.500000</td>\n",
       "    </tr>\n",
       "    <tr>\n",
       "      <th>50%</th>\n",
       "      <td>47.000000</td>\n",
       "    </tr>\n",
       "    <tr>\n",
       "      <th>75%</th>\n",
       "      <td>61.750000</td>\n",
       "    </tr>\n",
       "    <tr>\n",
       "      <th>max</th>\n",
       "      <td>67.000000</td>\n",
       "    </tr>\n",
       "  </tbody>\n",
       "</table>\n",
       "</div>"
      ],
      "text/plain": [
       "           marks\n",
       "count   4.000000\n",
       "mean   46.250000\n",
       "std    20.532495\n",
       "min    24.000000\n",
       "25%    31.500000\n",
       "50%    47.000000\n",
       "75%    61.750000\n",
       "max    67.000000"
      ]
     },
     "execution_count": 29,
     "metadata": {},
     "output_type": "execute_result"
    }
   ],
   "source": [
    "colleague.describe()"
   ]
  },
  {
   "cell_type": "markdown",
   "metadata": {},
   "source": [
    "# Now trying a random dataframe"
   ]
  },
  {
   "cell_type": "code",
   "execution_count": 32,
   "metadata": {},
   "outputs": [],
   "source": [
    "newdf = pd.DataFrame(np.random.rand(300,5), index=np.arange(300))"
   ]
  },
  {
   "cell_type": "code",
   "execution_count": 33,
   "metadata": {},
   "outputs": [
    {
     "data": {
      "text/html": [
       "<div>\n",
       "<style scoped>\n",
       "    .dataframe tbody tr th:only-of-type {\n",
       "        vertical-align: middle;\n",
       "    }\n",
       "\n",
       "    .dataframe tbody tr th {\n",
       "        vertical-align: top;\n",
       "    }\n",
       "\n",
       "    .dataframe thead th {\n",
       "        text-align: right;\n",
       "    }\n",
       "</style>\n",
       "<table border=\"1\" class=\"dataframe\">\n",
       "  <thead>\n",
       "    <tr style=\"text-align: right;\">\n",
       "      <th></th>\n",
       "      <th>0</th>\n",
       "      <th>1</th>\n",
       "      <th>2</th>\n",
       "      <th>3</th>\n",
       "      <th>4</th>\n",
       "    </tr>\n",
       "  </thead>\n",
       "  <tbody>\n",
       "    <tr>\n",
       "      <th>0</th>\n",
       "      <td>0.281377</td>\n",
       "      <td>0.381948</td>\n",
       "      <td>0.655469</td>\n",
       "      <td>0.234419</td>\n",
       "      <td>0.755503</td>\n",
       "    </tr>\n",
       "    <tr>\n",
       "      <th>1</th>\n",
       "      <td>0.584014</td>\n",
       "      <td>0.953674</td>\n",
       "      <td>0.906885</td>\n",
       "      <td>0.332998</td>\n",
       "      <td>0.833927</td>\n",
       "    </tr>\n",
       "    <tr>\n",
       "      <th>2</th>\n",
       "      <td>0.624723</td>\n",
       "      <td>0.535722</td>\n",
       "      <td>0.463796</td>\n",
       "      <td>0.192147</td>\n",
       "      <td>0.189628</td>\n",
       "    </tr>\n",
       "    <tr>\n",
       "      <th>3</th>\n",
       "      <td>0.778162</td>\n",
       "      <td>0.890119</td>\n",
       "      <td>0.379607</td>\n",
       "      <td>0.612814</td>\n",
       "      <td>0.305964</td>\n",
       "    </tr>\n",
       "    <tr>\n",
       "      <th>4</th>\n",
       "      <td>0.416882</td>\n",
       "      <td>0.038845</td>\n",
       "      <td>0.671113</td>\n",
       "      <td>0.199393</td>\n",
       "      <td>0.273046</td>\n",
       "    </tr>\n",
       "  </tbody>\n",
       "</table>\n",
       "</div>"
      ],
      "text/plain": [
       "          0         1         2         3         4\n",
       "0  0.281377  0.381948  0.655469  0.234419  0.755503\n",
       "1  0.584014  0.953674  0.906885  0.332998  0.833927\n",
       "2  0.624723  0.535722  0.463796  0.192147  0.189628\n",
       "3  0.778162  0.890119  0.379607  0.612814  0.305964\n",
       "4  0.416882  0.038845  0.671113  0.199393  0.273046"
      ]
     },
     "execution_count": 33,
     "metadata": {},
     "output_type": "execute_result"
    }
   ],
   "source": [
    "newdf.head()"
   ]
  },
  {
   "cell_type": "code",
   "execution_count": 34,
   "metadata": {},
   "outputs": [
    {
     "data": {
      "text/plain": [
       "pandas.core.frame.DataFrame"
      ]
     },
     "execution_count": 34,
     "metadata": {},
     "output_type": "execute_result"
    }
   ],
   "source": [
    "type(newdf)"
   ]
  },
  {
   "cell_type": "code",
   "execution_count": 35,
   "metadata": {},
   "outputs": [
    {
     "data": {
      "text/plain": [
       "0    float64\n",
       "1    float64\n",
       "2    float64\n",
       "3    float64\n",
       "4    float64\n",
       "dtype: object"
      ]
     },
     "execution_count": 35,
     "metadata": {},
     "output_type": "execute_result"
    }
   ],
   "source": [
    "newdf.dtypes"
   ]
  },
  {
   "cell_type": "code",
   "execution_count": 36,
   "metadata": {},
   "outputs": [
    {
     "data": {
      "text/html": [
       "<div>\n",
       "<style scoped>\n",
       "    .dataframe tbody tr th:only-of-type {\n",
       "        vertical-align: middle;\n",
       "    }\n",
       "\n",
       "    .dataframe tbody tr th {\n",
       "        vertical-align: top;\n",
       "    }\n",
       "\n",
       "    .dataframe thead th {\n",
       "        text-align: right;\n",
       "    }\n",
       "</style>\n",
       "<table border=\"1\" class=\"dataframe\">\n",
       "  <thead>\n",
       "    <tr style=\"text-align: right;\">\n",
       "      <th></th>\n",
       "      <th>0</th>\n",
       "      <th>1</th>\n",
       "      <th>2</th>\n",
       "      <th>3</th>\n",
       "      <th>4</th>\n",
       "      <th>5</th>\n",
       "      <th>6</th>\n",
       "      <th>7</th>\n",
       "      <th>8</th>\n",
       "      <th>9</th>\n",
       "      <th>...</th>\n",
       "      <th>290</th>\n",
       "      <th>291</th>\n",
       "      <th>292</th>\n",
       "      <th>293</th>\n",
       "      <th>294</th>\n",
       "      <th>295</th>\n",
       "      <th>296</th>\n",
       "      <th>297</th>\n",
       "      <th>298</th>\n",
       "      <th>299</th>\n",
       "    </tr>\n",
       "  </thead>\n",
       "  <tbody>\n",
       "    <tr>\n",
       "      <th>0</th>\n",
       "      <td>0.281377</td>\n",
       "      <td>0.584014</td>\n",
       "      <td>0.624723</td>\n",
       "      <td>0.778162</td>\n",
       "      <td>0.416882</td>\n",
       "      <td>0.193981</td>\n",
       "      <td>0.602480</td>\n",
       "      <td>0.701822</td>\n",
       "      <td>0.880058</td>\n",
       "      <td>0.787384</td>\n",
       "      <td>...</td>\n",
       "      <td>0.208154</td>\n",
       "      <td>0.102082</td>\n",
       "      <td>0.632572</td>\n",
       "      <td>0.758896</td>\n",
       "      <td>0.915211</td>\n",
       "      <td>0.208958</td>\n",
       "      <td>0.809059</td>\n",
       "      <td>0.839895</td>\n",
       "      <td>0.062530</td>\n",
       "      <td>0.325325</td>\n",
       "    </tr>\n",
       "    <tr>\n",
       "      <th>1</th>\n",
       "      <td>0.381948</td>\n",
       "      <td>0.953674</td>\n",
       "      <td>0.535722</td>\n",
       "      <td>0.890119</td>\n",
       "      <td>0.038845</td>\n",
       "      <td>0.773435</td>\n",
       "      <td>0.338400</td>\n",
       "      <td>0.011816</td>\n",
       "      <td>0.508214</td>\n",
       "      <td>0.644822</td>\n",
       "      <td>...</td>\n",
       "      <td>0.991238</td>\n",
       "      <td>0.279074</td>\n",
       "      <td>0.017216</td>\n",
       "      <td>0.041211</td>\n",
       "      <td>0.445028</td>\n",
       "      <td>0.344665</td>\n",
       "      <td>0.475660</td>\n",
       "      <td>0.490723</td>\n",
       "      <td>0.656663</td>\n",
       "      <td>0.692247</td>\n",
       "    </tr>\n",
       "    <tr>\n",
       "      <th>2</th>\n",
       "      <td>0.655469</td>\n",
       "      <td>0.906885</td>\n",
       "      <td>0.463796</td>\n",
       "      <td>0.379607</td>\n",
       "      <td>0.671113</td>\n",
       "      <td>0.024016</td>\n",
       "      <td>0.187922</td>\n",
       "      <td>0.081409</td>\n",
       "      <td>0.200939</td>\n",
       "      <td>0.799653</td>\n",
       "      <td>...</td>\n",
       "      <td>0.429346</td>\n",
       "      <td>0.863124</td>\n",
       "      <td>0.134261</td>\n",
       "      <td>0.862722</td>\n",
       "      <td>0.148718</td>\n",
       "      <td>0.410442</td>\n",
       "      <td>0.330549</td>\n",
       "      <td>0.169919</td>\n",
       "      <td>0.298647</td>\n",
       "      <td>0.361057</td>\n",
       "    </tr>\n",
       "    <tr>\n",
       "      <th>3</th>\n",
       "      <td>0.234419</td>\n",
       "      <td>0.332998</td>\n",
       "      <td>0.192147</td>\n",
       "      <td>0.612814</td>\n",
       "      <td>0.199393</td>\n",
       "      <td>0.634052</td>\n",
       "      <td>0.355529</td>\n",
       "      <td>0.129092</td>\n",
       "      <td>0.376615</td>\n",
       "      <td>0.758772</td>\n",
       "      <td>...</td>\n",
       "      <td>0.256711</td>\n",
       "      <td>0.941449</td>\n",
       "      <td>0.771951</td>\n",
       "      <td>0.690328</td>\n",
       "      <td>0.094752</td>\n",
       "      <td>0.219611</td>\n",
       "      <td>0.693322</td>\n",
       "      <td>0.408203</td>\n",
       "      <td>0.514188</td>\n",
       "      <td>0.712213</td>\n",
       "    </tr>\n",
       "    <tr>\n",
       "      <th>4</th>\n",
       "      <td>0.755503</td>\n",
       "      <td>0.833927</td>\n",
       "      <td>0.189628</td>\n",
       "      <td>0.305964</td>\n",
       "      <td>0.273046</td>\n",
       "      <td>0.024760</td>\n",
       "      <td>0.497209</td>\n",
       "      <td>0.587296</td>\n",
       "      <td>0.638864</td>\n",
       "      <td>0.074057</td>\n",
       "      <td>...</td>\n",
       "      <td>0.182644</td>\n",
       "      <td>0.849663</td>\n",
       "      <td>0.483186</td>\n",
       "      <td>0.241205</td>\n",
       "      <td>0.459140</td>\n",
       "      <td>0.859233</td>\n",
       "      <td>0.876962</td>\n",
       "      <td>0.602334</td>\n",
       "      <td>0.979924</td>\n",
       "      <td>0.805773</td>\n",
       "    </tr>\n",
       "  </tbody>\n",
       "</table>\n",
       "<p>5 rows × 300 columns</p>\n",
       "</div>"
      ],
      "text/plain": [
       "        0         1         2         3         4         5         6    \\\n",
       "0  0.281377  0.584014  0.624723  0.778162  0.416882  0.193981  0.602480   \n",
       "1  0.381948  0.953674  0.535722  0.890119  0.038845  0.773435  0.338400   \n",
       "2  0.655469  0.906885  0.463796  0.379607  0.671113  0.024016  0.187922   \n",
       "3  0.234419  0.332998  0.192147  0.612814  0.199393  0.634052  0.355529   \n",
       "4  0.755503  0.833927  0.189628  0.305964  0.273046  0.024760  0.497209   \n",
       "\n",
       "        7         8         9    ...       290       291       292       293  \\\n",
       "0  0.701822  0.880058  0.787384  ...  0.208154  0.102082  0.632572  0.758896   \n",
       "1  0.011816  0.508214  0.644822  ...  0.991238  0.279074  0.017216  0.041211   \n",
       "2  0.081409  0.200939  0.799653  ...  0.429346  0.863124  0.134261  0.862722   \n",
       "3  0.129092  0.376615  0.758772  ...  0.256711  0.941449  0.771951  0.690328   \n",
       "4  0.587296  0.638864  0.074057  ...  0.182644  0.849663  0.483186  0.241205   \n",
       "\n",
       "        294       295       296       297       298       299  \n",
       "0  0.915211  0.208958  0.809059  0.839895  0.062530  0.325325  \n",
       "1  0.445028  0.344665  0.475660  0.490723  0.656663  0.692247  \n",
       "2  0.148718  0.410442  0.330549  0.169919  0.298647  0.361057  \n",
       "3  0.094752  0.219611  0.693322  0.408203  0.514188  0.712213  \n",
       "4  0.459140  0.859233  0.876962  0.602334  0.979924  0.805773  \n",
       "\n",
       "[5 rows x 300 columns]"
      ]
     },
     "execution_count": 36,
     "metadata": {},
     "output_type": "execute_result"
    }
   ],
   "source": [
    "newdf.T # transpose"
   ]
  },
  {
   "cell_type": "code",
   "execution_count": 39,
   "metadata": {},
   "outputs": [],
   "source": [
    "newdf.loc[0,0]='harry'"
   ]
  },
  {
   "cell_type": "code",
   "execution_count": 40,
   "metadata": {},
   "outputs": [
    {
     "data": {
      "text/html": [
       "<div>\n",
       "<style scoped>\n",
       "    .dataframe tbody tr th:only-of-type {\n",
       "        vertical-align: middle;\n",
       "    }\n",
       "\n",
       "    .dataframe tbody tr th {\n",
       "        vertical-align: top;\n",
       "    }\n",
       "\n",
       "    .dataframe thead th {\n",
       "        text-align: right;\n",
       "    }\n",
       "</style>\n",
       "<table border=\"1\" class=\"dataframe\">\n",
       "  <thead>\n",
       "    <tr style=\"text-align: right;\">\n",
       "      <th></th>\n",
       "      <th>0</th>\n",
       "      <th>1</th>\n",
       "      <th>2</th>\n",
       "      <th>3</th>\n",
       "      <th>4</th>\n",
       "    </tr>\n",
       "  </thead>\n",
       "  <tbody>\n",
       "    <tr>\n",
       "      <th>0</th>\n",
       "      <td>harry</td>\n",
       "      <td>0.381948</td>\n",
       "      <td>0.655469</td>\n",
       "      <td>0.234419</td>\n",
       "      <td>0.755503</td>\n",
       "    </tr>\n",
       "    <tr>\n",
       "      <th>1</th>\n",
       "      <td>0.584014</td>\n",
       "      <td>0.953674</td>\n",
       "      <td>0.906885</td>\n",
       "      <td>0.332998</td>\n",
       "      <td>0.833927</td>\n",
       "    </tr>\n",
       "    <tr>\n",
       "      <th>2</th>\n",
       "      <td>0.624723</td>\n",
       "      <td>0.535722</td>\n",
       "      <td>0.463796</td>\n",
       "      <td>0.192147</td>\n",
       "      <td>0.189628</td>\n",
       "    </tr>\n",
       "    <tr>\n",
       "      <th>3</th>\n",
       "      <td>0.778162</td>\n",
       "      <td>0.890119</td>\n",
       "      <td>0.379607</td>\n",
       "      <td>0.612814</td>\n",
       "      <td>0.305964</td>\n",
       "    </tr>\n",
       "    <tr>\n",
       "      <th>4</th>\n",
       "      <td>0.416882</td>\n",
       "      <td>0.038845</td>\n",
       "      <td>0.671113</td>\n",
       "      <td>0.199393</td>\n",
       "      <td>0.273046</td>\n",
       "    </tr>\n",
       "    <tr>\n",
       "      <th>...</th>\n",
       "      <td>...</td>\n",
       "      <td>...</td>\n",
       "      <td>...</td>\n",
       "      <td>...</td>\n",
       "      <td>...</td>\n",
       "    </tr>\n",
       "    <tr>\n",
       "      <th>295</th>\n",
       "      <td>0.208958</td>\n",
       "      <td>0.344665</td>\n",
       "      <td>0.410442</td>\n",
       "      <td>0.219611</td>\n",
       "      <td>0.859233</td>\n",
       "    </tr>\n",
       "    <tr>\n",
       "      <th>296</th>\n",
       "      <td>0.809059</td>\n",
       "      <td>0.475660</td>\n",
       "      <td>0.330549</td>\n",
       "      <td>0.693322</td>\n",
       "      <td>0.876962</td>\n",
       "    </tr>\n",
       "    <tr>\n",
       "      <th>297</th>\n",
       "      <td>0.839895</td>\n",
       "      <td>0.490723</td>\n",
       "      <td>0.169919</td>\n",
       "      <td>0.408203</td>\n",
       "      <td>0.602334</td>\n",
       "    </tr>\n",
       "    <tr>\n",
       "      <th>298</th>\n",
       "      <td>0.06253</td>\n",
       "      <td>0.656663</td>\n",
       "      <td>0.298647</td>\n",
       "      <td>0.514188</td>\n",
       "      <td>0.979924</td>\n",
       "    </tr>\n",
       "    <tr>\n",
       "      <th>299</th>\n",
       "      <td>0.325325</td>\n",
       "      <td>0.692247</td>\n",
       "      <td>0.361057</td>\n",
       "      <td>0.712213</td>\n",
       "      <td>0.805773</td>\n",
       "    </tr>\n",
       "  </tbody>\n",
       "</table>\n",
       "<p>300 rows × 5 columns</p>\n",
       "</div>"
      ],
      "text/plain": [
       "            0         1         2         3         4\n",
       "0       harry  0.381948  0.655469  0.234419  0.755503\n",
       "1    0.584014  0.953674  0.906885  0.332998  0.833927\n",
       "2    0.624723  0.535722  0.463796  0.192147  0.189628\n",
       "3    0.778162  0.890119  0.379607  0.612814  0.305964\n",
       "4    0.416882  0.038845  0.671113  0.199393  0.273046\n",
       "..        ...       ...       ...       ...       ...\n",
       "295  0.208958  0.344665  0.410442  0.219611  0.859233\n",
       "296  0.809059  0.475660  0.330549  0.693322  0.876962\n",
       "297  0.839895  0.490723  0.169919  0.408203  0.602334\n",
       "298   0.06253  0.656663  0.298647  0.514188  0.979924\n",
       "299  0.325325  0.692247  0.361057  0.712213  0.805773\n",
       "\n",
       "[300 rows x 5 columns]"
      ]
     },
     "execution_count": 40,
     "metadata": {},
     "output_type": "execute_result"
    }
   ],
   "source": [
    "newdf"
   ]
  },
  {
   "cell_type": "code",
   "execution_count": 42,
   "metadata": {},
   "outputs": [
    {
     "data": {
      "text/html": [
       "<div>\n",
       "<style scoped>\n",
       "    .dataframe tbody tr th:only-of-type {\n",
       "        vertical-align: middle;\n",
       "    }\n",
       "\n",
       "    .dataframe tbody tr th {\n",
       "        vertical-align: top;\n",
       "    }\n",
       "\n",
       "    .dataframe thead th {\n",
       "        text-align: right;\n",
       "    }\n",
       "</style>\n",
       "<table border=\"1\" class=\"dataframe\">\n",
       "  <thead>\n",
       "    <tr style=\"text-align: right;\">\n",
       "      <th></th>\n",
       "      <th>A</th>\n",
       "      <th>B</th>\n",
       "      <th>C</th>\n",
       "      <th>D</th>\n",
       "      <th>E</th>\n",
       "    </tr>\n",
       "  </thead>\n",
       "  <tbody>\n",
       "    <tr>\n",
       "      <th>0</th>\n",
       "      <td>harry</td>\n",
       "      <td>0.381948</td>\n",
       "      <td>0.655469</td>\n",
       "      <td>0.234419</td>\n",
       "      <td>0.755503</td>\n",
       "    </tr>\n",
       "    <tr>\n",
       "      <th>1</th>\n",
       "      <td>0.584014</td>\n",
       "      <td>0.953674</td>\n",
       "      <td>0.906885</td>\n",
       "      <td>0.332998</td>\n",
       "      <td>0.833927</td>\n",
       "    </tr>\n",
       "    <tr>\n",
       "      <th>2</th>\n",
       "      <td>0.624723</td>\n",
       "      <td>0.535722</td>\n",
       "      <td>0.463796</td>\n",
       "      <td>0.192147</td>\n",
       "      <td>0.189628</td>\n",
       "    </tr>\n",
       "    <tr>\n",
       "      <th>3</th>\n",
       "      <td>0.778162</td>\n",
       "      <td>0.890119</td>\n",
       "      <td>0.379607</td>\n",
       "      <td>0.612814</td>\n",
       "      <td>0.305964</td>\n",
       "    </tr>\n",
       "    <tr>\n",
       "      <th>4</th>\n",
       "      <td>0.416882</td>\n",
       "      <td>0.038845</td>\n",
       "      <td>0.671113</td>\n",
       "      <td>0.199393</td>\n",
       "      <td>0.273046</td>\n",
       "    </tr>\n",
       "    <tr>\n",
       "      <th>...</th>\n",
       "      <td>...</td>\n",
       "      <td>...</td>\n",
       "      <td>...</td>\n",
       "      <td>...</td>\n",
       "      <td>...</td>\n",
       "    </tr>\n",
       "    <tr>\n",
       "      <th>295</th>\n",
       "      <td>0.208958</td>\n",
       "      <td>0.344665</td>\n",
       "      <td>0.410442</td>\n",
       "      <td>0.219611</td>\n",
       "      <td>0.859233</td>\n",
       "    </tr>\n",
       "    <tr>\n",
       "      <th>296</th>\n",
       "      <td>0.809059</td>\n",
       "      <td>0.475660</td>\n",
       "      <td>0.330549</td>\n",
       "      <td>0.693322</td>\n",
       "      <td>0.876962</td>\n",
       "    </tr>\n",
       "    <tr>\n",
       "      <th>297</th>\n",
       "      <td>0.839895</td>\n",
       "      <td>0.490723</td>\n",
       "      <td>0.169919</td>\n",
       "      <td>0.408203</td>\n",
       "      <td>0.602334</td>\n",
       "    </tr>\n",
       "    <tr>\n",
       "      <th>298</th>\n",
       "      <td>0.06253</td>\n",
       "      <td>0.656663</td>\n",
       "      <td>0.298647</td>\n",
       "      <td>0.514188</td>\n",
       "      <td>0.979924</td>\n",
       "    </tr>\n",
       "    <tr>\n",
       "      <th>299</th>\n",
       "      <td>0.325325</td>\n",
       "      <td>0.692247</td>\n",
       "      <td>0.361057</td>\n",
       "      <td>0.712213</td>\n",
       "      <td>0.805773</td>\n",
       "    </tr>\n",
       "  </tbody>\n",
       "</table>\n",
       "<p>300 rows × 5 columns</p>\n",
       "</div>"
      ],
      "text/plain": [
       "            A         B         C         D         E\n",
       "0       harry  0.381948  0.655469  0.234419  0.755503\n",
       "1    0.584014  0.953674  0.906885  0.332998  0.833927\n",
       "2    0.624723  0.535722  0.463796  0.192147  0.189628\n",
       "3    0.778162  0.890119  0.379607  0.612814  0.305964\n",
       "4    0.416882  0.038845  0.671113  0.199393  0.273046\n",
       "..        ...       ...       ...       ...       ...\n",
       "295  0.208958  0.344665  0.410442  0.219611  0.859233\n",
       "296  0.809059  0.475660  0.330549  0.693322  0.876962\n",
       "297  0.839895  0.490723  0.169919  0.408203  0.602334\n",
       "298   0.06253  0.656663  0.298647  0.514188  0.979924\n",
       "299  0.325325  0.692247  0.361057  0.712213  0.805773\n",
       "\n",
       "[300 rows x 5 columns]"
      ]
     },
     "execution_count": 42,
     "metadata": {},
     "output_type": "execute_result"
    }
   ],
   "source": [
    "newdf.columns = list(\"ABCDE\")\n",
    "newdf"
   ]
  },
  {
   "cell_type": "code",
   "execution_count": 44,
   "metadata": {},
   "outputs": [
    {
     "data": {
      "text/plain": [
       "0.755503442896595"
      ]
     },
     "execution_count": 44,
     "metadata": {},
     "output_type": "execute_result"
    }
   ],
   "source": [
    "newdf.iloc[0,4]"
   ]
  },
  {
   "cell_type": "code",
   "execution_count": 45,
   "metadata": {},
   "outputs": [
    {
     "data": {
      "text/html": [
       "<div>\n",
       "<style scoped>\n",
       "    .dataframe tbody tr th:only-of-type {\n",
       "        vertical-align: middle;\n",
       "    }\n",
       "\n",
       "    .dataframe tbody tr th {\n",
       "        vertical-align: top;\n",
       "    }\n",
       "\n",
       "    .dataframe thead th {\n",
       "        text-align: right;\n",
       "    }\n",
       "</style>\n",
       "<table border=\"1\" class=\"dataframe\">\n",
       "  <thead>\n",
       "    <tr style=\"text-align: right;\">\n",
       "      <th></th>\n",
       "      <th>B</th>\n",
       "      <th>C</th>\n",
       "    </tr>\n",
       "  </thead>\n",
       "  <tbody>\n",
       "    <tr>\n",
       "      <th>0</th>\n",
       "      <td>0.381948</td>\n",
       "      <td>0.655469</td>\n",
       "    </tr>\n",
       "    <tr>\n",
       "      <th>4</th>\n",
       "      <td>0.038845</td>\n",
       "      <td>0.671113</td>\n",
       "    </tr>\n",
       "  </tbody>\n",
       "</table>\n",
       "</div>"
      ],
      "text/plain": [
       "          B         C\n",
       "0  0.381948  0.655469\n",
       "4  0.038845  0.671113"
      ]
     },
     "execution_count": 45,
     "metadata": {},
     "output_type": "execute_result"
    }
   ],
   "source": [
    "newdf.iloc[[0,4],[1,2]]"
   ]
  }
 ],
 "metadata": {
  "kernelspec": {
   "display_name": "Python 3.9.12 ('base')",
   "language": "python",
   "name": "python3"
  },
  "language_info": {
   "codemirror_mode": {
    "name": "ipython",
    "version": 3
   },
   "file_extension": ".py",
   "mimetype": "text/x-python",
   "name": "python",
   "nbconvert_exporter": "python",
   "pygments_lexer": "ipython3",
   "version": "3.10.9"
  },
  "orig_nbformat": 4,
  "vscode": {
   "interpreter": {
    "hash": "e646e3513d9b507ac942b38379c7c22444e9458dd8d251339d12aef3346bcb59"
   }
  }
 },
 "nbformat": 4,
 "nbformat_minor": 2
}
